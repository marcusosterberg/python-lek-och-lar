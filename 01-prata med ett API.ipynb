{
 "cells": [
  {
   "cell_type": "markdown",
   "id": "feaf949e",
   "metadata": {},
   "source": [
    "# 01 – Prata med ett webb-API (JSON)"
   ]
  },
  {
   "cell_type": "markdown",
   "id": "7f567456",
   "metadata": {},
   "source": [
    "## 1. Gör ett anrop till webb-API:t\n",
    "Detta gör du med ramverket kallat *'requests'* genom dess *get*-metod.\n",
    "\n",
    "Dokumentation:  \n",
    "https://requests.readthedocs.io/en/latest/"
   ]
  },
  {
   "cell_type": "code",
   "execution_count": null,
   "id": "0a7620fb",
   "metadata": {},
   "outputs": [],
   "source": [
    "## importera det du behöver använda\n",
    "\n",
    "\n",
    "\"\"\"\n",
    "Gör anropet med requests. Ifall det är ett öppet API så görs detta oftast med *get()* som metod.\n",
    "\n",
    "Om du inte vet om något API kan du testa med nedan URL i ditt anrop:\n",
    "https://jsonplaceholder.typicode.com/todos/1\n",
    "\"\"\"\n",
    "\n",
    "\n",
    "## Spara ner resultatet i en variabel\n",
    "\n",
    "\n",
    "## Be Python berätta vilken datatyp ditt svar har, det görs med funktionen *type()* ur standardbiblioteket\n",
    "\n",
    "\n",
    "## Skriv ut resultatet\n"
   ]
  },
  {
   "cell_type": "markdown",
   "id": "095e737b",
   "metadata": {},
   "source": [
    "## 1.1 Anrop till ett skyddat API"
   ]
  },
  {
   "cell_type": "code",
   "execution_count": null,
   "id": "6c097874",
   "metadata": {},
   "outputs": [],
   "source": [
    "## skriv ner dina API-nycklar i ett format som requests kan använda, förslagsvis i en variabel du kallar 'headers'\n",
    "\n",
    "\n",
    "## ställ frågan till API:t och lägg med dina API-nycklar till attributet *headers* som läggs efter API:ts adress i anropet\n",
    "\n",
    "\n",
    "## skriv ut ditt svar från API:t\n"
   ]
  },
  {
   "cell_type": "markdown",
   "id": "957c6924",
   "metadata": {},
   "source": [
    "## 2. Läs in svaret i en ordlista med Python\n",
    "Svaret du har fått är (förhoppningsvis) kompatibelt med Pythons datastruktur *dict()* vilket kan hjälpa dig använda svaret. Svaret är nämligen i JSON-format, vilket du kan se för att det är parentesvarianten \"måsvingar\" runt ditt data.\n",
    "\n",
    "Dokumentation om [JSON i Python](https://www.w3schools.com/python/python_json.asp).\n"
   ]
  },
  {
   "cell_type": "code",
   "execution_count": null,
   "id": "8f96c3b6",
   "metadata": {},
   "outputs": [],
   "source": [
    "## importera det du behöver använda\n",
    "\n",
    "\n",
    "## ladda in ditt JSON-svar från föregående cell med json-funktionen *loads()*\n",
    "\n",
    "\n",
    "## Be Python berätta om vilken datatyp din inladdade JSON-data har\n",
    "\n",
    "\n",
    "## Skriv ut hela JSON-importen på skärmen\n"
   ]
  },
  {
   "cell_type": "markdown",
   "id": "a99ddadf",
   "metadata": {},
   "source": [
    "## 3. Hämta ut data ur din ordlista\n",
    "Poängen kan vara att ur ett större API-svar bara behålla delar av informationen för vidare arbete. I en ordlista finns *nycklar* och *värden* ihopparade. Nyckeln är det du sett innan kolon i den utdata du haft i tidigare kodexempel. Värdet är det efter kolon. \n",
    "\n",
    "Dokumentation för att [jobba med dict() i Python](https://www.w3schools.com/python/python_dictionaries.asp)."
   ]
  },
  {
   "cell_type": "code",
   "execution_count": null,
   "id": "e25bf48f",
   "metadata": {},
   "outputs": [],
   "source": [
    "## skriv ut hur många nycklar din ordlista består av, detta görs med funktionen len()\n",
    "\n",
    "\n",
    "## skriv ut värdet för någon av nycklarna du sett i din tidigare utdata\n",
    "\n",
    "\n",
    "## med en for-loop som itererar igenom dina nycklar, hämta ut respektive värde\n"
   ]
  }
 ],
 "metadata": {
  "kernelspec": {
   "display_name": "Python 3",
   "language": "python",
   "name": "python3"
  },
  "language_info": {
   "codemirror_mode": {
    "name": "ipython",
    "version": 3
   },
   "file_extension": ".py",
   "mimetype": "text/x-python",
   "name": "python",
   "nbconvert_exporter": "python",
   "pygments_lexer": "ipython3",
   "version": "3.8.8"
  }
 },
 "nbformat": 4,
 "nbformat_minor": 5
}
