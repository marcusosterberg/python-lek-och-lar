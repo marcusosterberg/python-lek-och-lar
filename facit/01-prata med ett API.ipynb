{
 "cells": [
  {
   "cell_type": "markdown",
   "id": "b53a831c",
   "metadata": {},
   "source": [
    "# 01 – Prata med ett webb-API (JSON)"
   ]
  },
  {
   "cell_type": "markdown",
   "id": "299bc17a",
   "metadata": {},
   "source": [
    "## 1. Gör ett anrop till webb-API:t\n",
    "Detta gör du med ramverket kallat *'requests'* genom dess *get*-metod.\n",
    "\n",
    "Dokumentation:  \n",
    "https://requests.readthedocs.io/en/latest/"
   ]
  },
  {
   "cell_type": "code",
   "execution_count": 1,
   "id": "160d48ec",
   "metadata": {},
   "outputs": [
    {
     "name": "stdout",
     "output_type": "stream",
     "text": [
      "<class 'str'>\n",
      "{\n",
      "  \"userId\": 1,\n",
      "  \"id\": 1,\n",
      "  \"title\": \"delectus aut autem\",\n",
      "  \"completed\": false\n",
      "}\n"
     ]
    }
   ],
   "source": [
    "## importera det du behöver använda\n",
    "import requests\n",
    "\n",
    "\"\"\"\n",
    "Gör anropet med requests. Ifall det är ett öppet API så görs detta oftast med *get()* som metod.\n",
    "\n",
    "Om du inte vet om något API kan du testa med nedan URL i ditt anrop:\n",
    "https://jsonplaceholder.typicode.com/todos/1\n",
    "\"\"\"\n",
    "r = requests.get('https://jsonplaceholder.typicode.com/todos/1')\n",
    "\n",
    "## Spara ner resultatet i en variabel\n",
    "mitt_svar = r.text\n",
    "\n",
    "## Be Python berätta vilken datatyp ditt svar har, det görs med funktionen *type()* ur standardbiblioteket\n",
    "print(type(mitt_svar))\n",
    "\n",
    "## Skriv ut resultatet\n",
    "print(mitt_svar)"
   ]
  },
  {
   "cell_type": "markdown",
   "id": "fc00b3a8",
   "metadata": {},
   "source": [
    "## 1.1 Anrop till ett skyddat API"
   ]
  },
  {
   "cell_type": "code",
   "execution_count": 2,
   "id": "0dc5628b",
   "metadata": {},
   "outputs": [
    {
     "name": "stdout",
     "output_type": "stream",
     "text": [
      "{\"testcenters\":[{\"title\":\"Närhälsan Svenljunga vårdcentral\",\"hsaid\":\"SE2321000131-E000000000441\",\"municipalityName\":\"Svenljunga\",\"municipality\":\"1465\",\"district\":\"\",\"urlBooking\":\"https://tidbok.1177.se/make?configid=bb0225fc-7c37-47c1-8558-ddb991501c2c&hsaid=SE2321000131-E000000000441\",\"urlContactCard\":\"https://www.1177.se/Vastra-Gotaland/hitta-vard/kontaktkort/Narhalsan-Svenljunga-vardcentral-Svenljunga/\",\"urlContactCardText\":\"1\",\"testtype\":\"1\",\"source\":\"internal\",\"dropin\":\"0\",\"urlContactCardDropin\":null,\"timeslots\":0,\"updated\":\"2022-07-18 10:20:02\",\"weeksInFuture\":8},{\"title\":\"Nötkärnan Masthugget Familjeläkare och BVC\",\"hsaid\":\"SE2321000131-E000000007638\",\"municipalityName\":\"Göteborg\",\"municipality\":\"1480\",\"district\":\"Majorna-Linné\",\"urlBooking\":\"https://dl.notkarnan.se\",\"urlContactCard\":\"https://www.1177.se/Vastra-Gotaland/hitta-vard/kontaktkort/Notkarnan-Masthugget-Familjelakare-och-BVC-Masthugget/\",\"urlContactCardText\":\"1\",\"testtype\":\"2\",\"source\":\"internal\",\"dropin\":\"0\",\"urlContactCardDropin\":null,\"timeslots\":null,\"updated\":\"2022-07-18 10:20:06\",\"weeksInFuture\":8},{\"title\":\"Närhälsan Furulund vårdcentral\",\"hsaid\":\"SE2321000131-E000000004567\",\"municipalityName\":\"Partille\",\"municipality\":\"1402\",\"district\":\"\",\"urlBooking\":\"https://tidbok.1177.se/make?configid=bb0225fc-7c37-47c1-8558-ddb991501c2c&hsaid=SE2321000131-E000000004567\",\"urlContactCard\":\"https://www.narhalsan.se/Furulundvardcentral\",\"urlContactCardText\":\"1\",\"testtype\":\"1\",\"source\":\"internal\",\"dropin\":\"0\",\"urlContactCardDropin\":null,\"timeslots\":16,\"updated\":\"2022-07-18 10:16:36\",\"weeksInFuture\":8},{\"title\":\"Nötkärnan Kortedala Vårdcentral och BVC\",\"hsaid\":\"SE2321000131-E000000007639\",\"municipalityName\":\"Göteborg\",\"municipality\":\"1480\",\"district\":\"Östra Göteborg\",\"urlBooking\":\"https://dl.notkarnan.se\",\"urlContactCard\":\"https://kortedalavardcentral.se/\",\"urlContactCardText\":\"1\",\"testtype\":\"1\",\"source\":\"internal\",\"dropin\":\"0\",\"urlContactCardDropin\":null,\"timeslots\":0,\"updated\":\"2022-07-18 10:20:10\",\"weeksInFuture\":8},{\"title\":\"Närhälsan Tranemo vårdcentral\",\"hsaid\":\"SE2321000131-E000000000443\",\"municipalityName\":\"Tranemo\",\"municipality\":\"1452\",\"district\":\"\",\"urlBooking\":\"https://tidbok.1177.se/make?configid=bb0225fc-7c37-47c1-8558-ddb991501c2c&hsaid=SE2321000131-E000000000443\",\"urlContactCard\":\"https://www.1177.se/Vastra-Gotaland/hitta-vard/kontaktkort/Narhalsan-Tranemo-vardcentral-Tranemo/\",\"urlContactCardText\":\"1\",\"testtype\":\"1\",\"source\":\"internal\",\"dropin\":\"0\",\"urlContactCardDropin\":null,\"timeslots\":0,\"updated\":\"2022-07-18 10:20:20\",\"weeksInFuture\":8},{\"title\":\"Närhälsan Vårgårda vårdcentral\",\"hsaid\":\"SE2321000131-E000000001691\",\"municipalityName\":\"Vårgårda\",\"municipality\":\"1442\",\"district\":\"\",\"urlBooking\":\"https://tidbok.1177.se/make?configid=bb0225fc-7c37-47c1-8558-ddb991501c2c&hsaid=SE2321000131-E000000001691\",\"urlContactCard\":\"https://www.1177.se/Vastra-Gotaland/hitta-vard/kontaktkort/Narhalsan-Vargarda-vardcentral-Vargarda/\",\"urlContactCardText\":\"1\",\"testtype\":\"1\",\"source\":\"internal\",\"dropin\":\"0\",\"urlContactCardDropin\":null,\"timeslots\":0,\"updated\":\"2022-07-18 10:30:50\",\"weeksInFuture\":8},{\"title\":\"Närhälsan Sollebrunn vårdcentral\",\"hsaid\":\"SE2321000131-E000000001690\",\"municipalityName\":\"Alingsås\",\"municipality\":\"1489\",\"district\":\"\",\"urlBooking\":\"https://tidbok.1177.se/make?configid=bb0225fc-7c37-47c1-8558-ddb991501c2c&hsaid=SE2321000131-E000000001690\",\"urlContactCard\":\"https://www.1177.se/Vastra-Gotaland/hitta-vard/kontaktkort/Narhalsan-Sollebrunn-vardcentral-Sollebrunn/\",\"urlContactCardText\":\"1\",\"testtype\":\"1\",\"source\":\"internal\",\"dropin\":\"0\",\"urlContactCardDropin\":null,\"timeslots\":0,\"updated\":\"2022-07-18 10:30:59\",\"weeksInFuture\":8},{\"title\":\"Nötkärnan Friskväderstorget Vårdcentral och BVC\",\"hsaid\":\"SE2321000131-E000000007631\",\"municipalityName\":\"Göteborg\",\"municipality\":\"1480\",\"district\":\"Västra Hisingen\",\"urlBooking\":\"https://dl.notkarnan.se\",\"urlContactCard\":\"https://friskvaderstorgetvardcentral.se/\",\"urlContactCardText\":\"1\",\"testtype\":\"1\",\"source\":\"internal\",\"dropin\":\"0\",\"urlContactCardDropin\":null,\"timeslots\":0,\"updated\":\"2022-07-18 10:21:15\",\"weeksInFuture\":8},{\"title\":\"Närhälsan Styrsö vårdcentral\",\"hsaid\":\"SE2321000131-E000000006741\",\"municipalityName\":\"Göteborg\",\"municipality\":\"1480\",\"district\":\"Västra Göteborg\",\"urlBooking\":\"https://tidbok.1177.se/make?configid=bb0225fc-7c37-47c1-8558-ddb991501c2c&hsaid=SE2321000131-E000000006741\",\"urlContactCard\":\"https://www.narhalsan.se/styrsovardcentral\",\"urlContactCardText\":\"1\",\"testtype\":\"1\",\"source\":\"internal\",\"dropin\":\"0\",\"urlContactCardDropin\":null,\"timeslots\":0,\"updated\":\"2022-07-18 10:16:55\",\"weeksInFuture\":8},{\"title\":\"Närhälsan Biskopsgården vårdcentral\",\"hsaid\":\"SE2321000131-E000000001655\",\"municipalityName\":\"Göteborg\",\"municipality\":\"1480\",\"district\":\"Västra Hisingen\",\"urlBooking\":\"https://tidbok.1177.se/make?configid=bb0225fc-7c37-47c1-8558-ddb991501c2c&hsaid=SE2321000131-E000000001655\",\"urlContactCard\":\"https://www.narhalsan.se/biskopsgardenvardcentral\",\"urlContactCardText\":\"1\",\"testtype\":\"1\",\"source\":\"internal\",\"dropin\":\"0\",\"urlContactCardDropin\":null,\"timeslots\":0,\"updated\":\"2022-07-18 10:21:35\",\"weeksInFuture\":8},{\"title\":\"Närhälsan Vara vårdcentral\",\"hsaid\":\"SE2321000131-E000000000489\",\"municipalityName\":\"Vara\",\"municipality\":\"1470\",\"district\":\"\",\"urlBooking\":\"https://tidbok.1177.se/make?configid=bb0225fc-7c37-47c1-8558-ddb991501c2c&hsaid=SE2321000131-E000000000489\",\"urlContactCard\":\"https://www.1177.se/Vastra-Gotaland/hitta-vard/kontaktkort/Narhalsan-Vara-vardcentral-Vara/\",\"urlContactCardText\":\"1\",\"testtype\":\"1\",\"source\":\"internal\",\"dropin\":\"0\",\"urlContactCardDropin\":null,\"timeslots\":0,\"updated\":\"2022-07-18 10:31:29\",\"weeksInFuture\":8},{\"title\":\"Närhälsan Ulricehamn vårdcentral\",\"hsaid\":\"SE2321000131-E000000000444\",\"municipalityName\":\"Ulricehamn\",\"municipality\":\"1491\",\"district\":\"\",\"urlBooking\":\"https://tidbok.1177.se/make?configid=bb0225fc-7c37-47c1-8558-ddb991501c2c&hsaid=SE2321000131-E000000000444\",\"urlContactCard\":\"https://www.1177.se/Vastra-Gotaland/hitta-vard/kontaktkort/Narhalsan-Ulricehamn-vardcentral-Ulricehamn/\",\"urlContactCardText\":\"1\",\"testtype\":\"1\",\"source\":\"internal\",\"dropin\":\"0\",\"urlContactCardDropin\":null,\"timeslots\":0,\"updated\":\"2022-07-18 10:22:04\",\"weeksInFuture\":8},{\"title\":\"Nötkärnan Hovås Askim Familjeläkare och BVC\",\"hsaid\":\"SE2321000131-E000000007636\",\"municipalityName\":\"Göteborg\",\"municipality\":\"1480\",\"district\":\"Askim-Frölunda-Högsbo\",\"urlBooking\":\"https://dl.notkarnan.se\",\"urlContactCard\":\"https://www.hovasaskimfamiljelakare.se/\",\"urlContactCardText\":\"1\",\"testtype\":\"1\",\"source\":\"internal\",\"dropin\":\"0\",\"urlContactCardDropin\":null,\"timeslots\":0,\"updated\":\"2022-07-18 10:22:22\",\"weeksInFuture\":8},{\"title\":\"Närhälsan Solgärde vårdcentral\",\"hsaid\":\"SE2321000131-E000000005569\",\"municipalityName\":\"Kungälv\",\"municipality\":\"1482\",\"district\":\"\",\"urlBooking\":\"https://tidbok.1177.se/make?configid=bb0225fc-7c37-47c1-8558-ddb991501c2c&hsaid=SE2321000131-E000000005569\",\"urlContactCard\":\"https://www.narhalsan.se/Solgardevardcentral\",\"urlContactCardText\":\"1\",\"testtype\":\"1\",\"source\":\"internal\",\"dropin\":\"0\",\"urlContactCardDropin\":null,\"timeslots\":58,\"updated\":\"2022-07-18 10:22:51\",\"weeksInFuture\":8},{\"title\":\"Närhälsan Nossebro vårdcentral\",\"hsaid\":\"SE2321000131-E000000000553\",\"municipalityName\":\"Essunga\",\"municipality\":\"1445\",\"district\":\"\",\"urlBooking\":\"https://tidbok.1177.se/make?configid=bb0225fc-7c37-47c1-8558-ddb991501c2c&hsaid=SE2321000131-E000000000553\",\"urlContactCard\":\"https://www.1177.se/Vastra-Gotaland/hitta-vard/kontaktkort/Narhalsan-Nossebro-vardcentral-Nossebro/\",\"urlContactCardText\":\"1\",\"testtype\":\"1\",\"source\":\"internal\",\"dropin\":\"0\",\"urlContactCardDropin\":null,\"timeslots\":0,\"updated\":\"2022-07-18 10:23:09\",\"weeksInFuture\":8},{\"title\":\"Närhälsan Backa vårdcentral\",\"hsaid\":\"SE2321000131-E000000000310\",\"municipalityName\":\"Göteborg\",\"municipality\":\"1480\",\"district\":\"Norra Hisingen\",\"urlBooking\":\"https://tidbok.1177.se/make?configid=bb0225fc-7c37-47c1-8558-ddb991501c2c&hsaid=SE2321000131-E000000000310\",\"urlContactCard\":\"https://www.narhalsan.se/backavardcentral\",\"urlContactCardText\":\"1\",\"testtype\":\"1\",\"source\":\"internal\",\"dropin\":\"0\",\"urlContactCardDropin\":null,\"timeslots\":0,\"updated\":\"2022-07-18 10:23:30\",\"weeksInFuture\":8},{\"title\":\"Närhälsan Tidan vårdcentral\",\"hsaid\":\"SE2321000131-E000000000552\",\"municipalityName\":\"Skövde\",\"municipality\":\"1496\",\"district\":\"\",\"urlBooking\":\"https://tidbok.1177.se/make?configid=bb0225fc-7c37-47c1-8558-ddb991501c2c&hsaid=SE2321000131-E000000000552\",\"urlContactCard\":\"https://www.1177.se/Vastra-Gotaland/hitta-vard/kontaktkort/Narhalsan-Tidan-vardcentral-Tidan/\",\"urlContactCardText\":\"1\",\"testtype\":\"1\",\"source\":\"internal\",\"dropin\":\"0\",\"urlContactCardDropin\":null,\"timeslots\":0,\"updated\":\"2022-07-18 10:23:39\",\"weeksInFuture\":8},{\"title\":\"Närhälsan Alingsås vaccinationsmottagning\",\"hsaid\":\"SE2321000131-E000000007983\",\"municipalityName\":\"Alingsås\",\"municipality\":\"1489\",\"district\":\"\",\"urlBooking\":\"https://tidbok.1177.se/make?configid=bb0225fc-7c37-47c1-8558-ddb991501c2c&hsaid=SE2321000131-E000000007983\",\"urlContactCard\":\"https://www.narhalsan.se/covid-192/vaccination-covid-19/narhalsan-alingsas-vaccinationsmottagning/\",\"urlContactCardText\":\"1\",\"testtype\":\"1\",\"source\":\"internal\",\"dropin\":\"0\",\"urlContactCardDropin\":null,\"timeslots\":53,\"updated\":\"2022-07-18 10:23:57\",\"weeksInFuture\":8},{\"title\":\"Närhälsan Hjällbo vårdcentral\",\"hsaid\":\"SE2321000131-E000000006731\",\"municipalityName\":\"Göteborg\",\"municipality\":\"1480\",\"district\":\"Angered\",\"urlBooking\":\"https://tidbok.1177.se/make?configid=bb0225fc-7c37-47c1-8558-ddb991501c2c&hsaid=SE2321000131-E000000006731\",\"urlContactCard\":\"https://www.1177.se/Vastra-Gotaland/hitta-vard/kontaktkort/Narhalsan-Hjallbo-vardcentral-Angered\",\"urlContactCardText\":\"1\",\"testtype\":\"1\",\"source\":\"internal\",\"dropin\":\"0\",\"urlContactCardDropin\":null,\"timeslots\":0,\"updated\":\"2022-07-18 10:17:36\",\"weeksInFuture\":8},{\"title\":\"Närhälsan Skene Lasarett\",\"hsaid\":\"SE2321000131-E000000000439\",\"municipalityName\":\"Mark\",\"municipality\":\"1463\",\"district\":\"\",\"urlBooking\":\"https://tidbok.1177.se/make?configid=bb0225fc-7c37-47c1-8558-ddb991501c2c&hsaid=SE2321000131-E000000000439\",\"urlContactCard\":\"https://www.narhalsan.se/skenevardcentral\",\"urlContactCardText\":\"1\",\"testtype\":\"1\",\"source\":\"internal\",\"dropin\":\"0\",\"urlContactCardDropin\":null,\"timeslots\":15,\"updated\":\"2022-07-18 10:24:35\",\"weeksInFuture\":8},{\"title\":\"Nötkärnan Kållered Familjeläkare och BVC\",\"hsaid\":\"SE2321000131-E000000007501\",\"municipalityName\":\"Mölndal\",\"municipality\":\"1481\",\"district\":\"\",\"urlBooking\":\"https://dl.notkarnan.se\",\"urlContactCard\":\"https://kalleredfamiljelakare.se/\",\"urlContactCardText\":\"1\",\"testtype\":\"1\",\"source\":\"internal\",\"dropin\":\"0\",\"urlContactCardDropin\":null,\"timeslots\":0,\"updated\":\"2022-07-18 10:24:43\",\"weeksInFuture\":8},{\"title\":\"Närhälsan Ängabo vårdcentral\",\"hsaid\":\"SE2321000131-E000000000434\",\"municipalityName\":\"Alingsås\",\"municipality\":\"1489\",\"district\":\"\",\"urlBooking\":\"https://tidbok.1177.se/make?configid=bb0225fc-7c37-47c1-8558-ddb991501c2c&hsaid=SE2321000131-E000000000434\",\"urlContactCard\":\"https://www.1177.se/Vastra-Gotaland/hitta-vard/kontaktkort/Narhalsan-Angabo-vardcentral-Alingsas/\",\"urlContactCardText\":\"1\",\"testtype\":\"1\",\"source\":\"internal\",\"dropin\":\"0\",\"urlContactCardDropin\":null,\"timeslots\":0,\"updated\":\"2022-07-18 10:25:02\",\"weeksInFuture\":8},{\"title\":\"Närhälsan Brämaregården vårdcentral\",\"hsaid\":\"SE2321000131-E000000000312\",\"municipalityName\":\"Göteborg\",\"municipality\":\"1480\",\"district\":\"Lundby\",\"urlBooking\":\"https://tidbok.1177.se/make?configid=bb0225fc-7c37-47c1-8558-ddb991501c2c&hsaid=SE2321000131-E000000000312\",\"urlContactCard\":\"https://www.narhalsan.se/bramaregardenvardcentral\",\"urlContactCardText\":\"1\",\"testtype\":\"1\",\"source\":\"internal\",\"dropin\":\"0\",\"urlContactCardDropin\":null,\"timeslots\":0,\"updated\":\"2022-07-18 10:25:22\",\"weeksInFuture\":8},{\"title\":\"Närhälsan Herrljunga vårdcentral\",\"hsaid\":\"SE2321000131-E000000001689\",\"municipalityName\":\"Herrljunga\",\"municipality\":\"1466\",\"district\":\"\",\"urlBooking\":\"https://tidbok.1177.se/make?configid=bb0225fc-7c37-47c1-8558-ddb991501c2c&hsaid=SE2321000131-E000000001689\",\"urlContactCard\":\"https://www.1177.se/Vastra-Gotaland/hitta-vard/kontaktkort/Narhalsan-Herrljunga-vardcentral-Herrljunga/\",\"urlContactCardText\":\"1\",\"testtype\":\"1\",\"source\":\"internal\",\"dropin\":\"0\",\"urlContactCardDropin\":null,\"timeslots\":0,\"updated\":\"2022-07-18 10:31:57\",\"weeksInFuture\":8},{\"title\":\"Närhälsan Tjörn vårdcentral\",\"hsaid\":\"SE2321000131-E000000005514\",\"municipalityName\":\"Tjörn\",\"municipality\":\"1419\",\"district\":\"\",\"urlBooking\":\"https://tidbok.1177.se/make?configid=bb0225fc-7c37-47c1-8558-ddb991501c2c&hsaid=SE2321000131-E000000005514\",\"urlContactCard\":\"https://www.1177.se/Vastra-Gotaland/hitta-vard/kontaktkort/Narhalsan-Tjorn-vardcentral-Kallekarr/\",\"urlContactCardText\":\"1\",\"testtype\":\"1\",\"source\":\"internal\",\"dropin\":\"0\",\"urlContactCardDropin\":null,\"timeslots\":10,\"updated\":\"2022-07-18 10:17:56\",\"weeksInFuture\":8},{\"title\":\"Närhälsan Skogslyckan vårdcentral\",\"hsaid\":\"SE2321000131-E000000000540\",\"municipalityName\":\"Uddevalla\",\"municipality\":\"1485\",\"district\":\"\",\"urlBooking\":\"https://tidbok.1177.se/make?configid=bb0225fc-7c37-47c1-8558-ddb991501c2c&hsaid=SE2321000131-E000000000540\",\"urlContactCard\":\"https://www.1177.se/Vastra-Gotaland/hitta-vard/kontaktkort/Narhalsan-Skogslyckan-vardcentral-Uddevalla/\",\"urlContactCardText\":\"1\",\"testtype\":\"1\",\"source\":\"internal\",\"dropin\":\"0\",\"urlContactCardDropin\":null,\"timeslots\":31,\"updated\":\"2022-07-18 10:25:42\",\"weeksInFuture\":8},{\"title\":\"Närhälsan Angered vårdcentral\",\"hsaid\":\"SE2321000131-E000000006727\",\"municipalityName\":\"Göteborg\",\"municipality\":\"1480\",\"district\":\"Angered\",\"urlBooking\":\"https://tidbok.1177.se/make?configid=bb0225fc-7c37-47c1-8558-ddb991501c2c&hsaid=SE2321000131-E000000006727\",\"urlContactCard\":\"https://www.narhalsan.se/angeredvardcentral\",\"urlContactCardText\":\"1\",\"testtype\":\"1\",\"source\":\"internal\",\"dropin\":\"0\",\"urlContactCardDropin\":null,\"timeslots\":0,\"updated\":\"2022-07-18 10:18:16\",\"weeksInFuture\":8},{\"title\":\"Närhälsan Hjo vårdcentral\",\"hsaid\":\"SE2321000131-E000000000465\",\"municipalityName\":\"Hjo\",\"municipality\":\"1497\",\"district\":\"\",\"urlBooking\":\"https://tidbok.1177.se/make?configid=bb0225fc-7c37-47c1-8558-ddb991501c2c&hsaid=SE2321000131-E000000000465\",\"urlContactCard\":\"https://www.narhalsan.se/Hjovardcentral\",\"urlContactCardText\":\"1\",\"testtype\":\"1\",\"source\":\"internal\",\"dropin\":\"0\",\"urlContactCardDropin\":null,\"timeslots\":0,\"updated\":\"2022-07-18 10:32:26\",\"weeksInFuture\":8},{\"title\":\"Närhälsan Bollebygd vårdcentral\",\"hsaid\":\"SE2321000131-E000000000420\",\"municipalityName\":\"Bollebygd\",\"municipality\":\"1443\",\"district\":\"\",\"urlBooking\":\"https://tidbok.1177.se/make?configid=bb0225fc-7c37-47c1-8558-ddb991501c2c&hsaid=SE2321000131-E000000000420\",\"urlContactCard\":\"https://www.narhalsan.se/Bollebygdvardcentral\",\"urlContactCardText\":\"1\",\"testtype\":\"1\",\"source\":\"internal\",\"dropin\":\"0\",\"urlContactCardDropin\":null,\"timeslots\":4,\"updated\":\"2022-07-18 10:26:01\",\"weeksInFuture\":8},{\"title\":\"Närhälsan Tibro vårdcentral\",\"hsaid\":\"SE2321000131-E000000000464\",\"municipalityName\":\"Tibro\",\"municipality\":\"1472\",\"district\":\"\",\"urlBooking\":\"https://tidbok.1177.se/make?configid=bb0225fc-7c37-47c1-8558-ddb991501c2c&hsaid=SE2321000131-E000000000464\",\"urlContactCard\":\"https://www.1177.se/Vastra-Gotaland/hitta-vard/kontaktkort/Narhalsan-Tibro-vardcentral-Tibro/\",\"urlContactCardText\":\"1\",\"testtype\":\"1\",\"source\":\"internal\",\"dropin\":\"0\",\"urlContactCardDropin\":null,\"timeslots\":0,\"updated\":\"2022-07-18 10:32:36\",\"weeksInFuture\":8},{\"title\":\"Närhälsan Billingen vårdcentral\",\"hsaid\":\"SE2321000131-E000000000461\",\"municipalityName\":\"Skövde\",\"municipality\":\"1496\",\"district\":\"\",\"urlBooking\":\"https://tidbok.1177.se/make?configid=bb0225fc-7c37-47c1-8558-ddb991501c2c&hsaid=SE2321000131-E000000000461\",\"urlContactCard\":\"https://www.narhalsan.se/Billingenvardcentral\",\"urlContactCardText\":\"1\",\"testtype\":\"1\",\"source\":\"internal\",\"dropin\":\"0\",\"urlContactCardDropin\":null,\"timeslots\":0,\"updated\":\"2022-07-18 10:32:45\",\"weeksInFuture\":8},{\"title\":\"Närhälsan Bäckefors vårdcentral\",\"hsaid\":\"SE2321000131-E000000004905\",\"municipalityName\":\"Bengtsfors\",\"municipality\":\"1460\",\"district\":\"\",\"urlBooking\":\"https://tidbok.1177.se/make?terms=false&configid=bb0225fc-7c37-47c1-8558-ddb991501c2c&hsaid=SE2321000131-E000000004905\",\"urlContactCard\":\"https://www.narhalsan.se/backeforsvardcentral\",\"urlContactCardText\":\"1\",\"testtype\":\"1\",\"source\":\"internal\",\"dropin\":\"0\",\"urlContactCardDropin\":null,\"timeslots\":0,\"updated\":\"2022-07-18 10:26:30\",\"weeksInFuture\":8},{\"title\":\"Närhälsan Björkekärr vårdcentral\",\"hsaid\":\"SE2321000131-E000000001638\",\"municipalityName\":\"Göteborg\",\"municipality\":\"1480\",\"district\":\"Örgryte-Härlanda\",\"urlBooking\":\"https://tidbok.1177.se/make?configid=bb0225fc-7c37-47c1-8558-ddb991501c2c&hsaid=SE2321000131-E000000001638\",\"urlContactCard\":\"https://www.narhalsan.se/bjorkekarrvardcentral\",\"urlContactCardText\":\"1\",\"testtype\":\"1\",\"source\":\"internal\",\"dropin\":\"0\",\"urlContactCardDropin\":null,\"timeslots\":0,\"updated\":\"2022-07-18 10:26:58\",\"weeksInFuture\":8},{\"title\":\"Närhälsan Partille vårdcentral\",\"hsaid\":\"SE2321000131-E000000000269\",\"municipalityName\":\"Partille\",\"municipality\":\"1402\",\"district\":\"\",\"urlBooking\":\"https://tidbok.1177.se/make?terms=false&configid=bb0225fc-7c37-47c1-8558-ddb991501c2c&hsaid=SE2321000131-E000000000269\",\"urlContactCard\":\"https://www.1177.se/Vastra-Gotaland/hitta-vard/kontaktkort/Narhalsan-Partille-vardcentral-Partille/\",\"urlContactCardText\":\"1\",\"testtype\":\"1\",\"source\":\"internal\",\"dropin\":\"1\",\"urlContactCardDropin\":\"http://www.narhalsan.se/partillevardcentral\",\"timeslots\":389,\"updated\":\"2022-07-18 10:35:31\",\"weeksInFuture\":8},{\"title\":\"Närhälsan Vänerparken vårdcentral\",\"hsaid\":\"SE2321000131-E000000000543\",\"municipalityName\":\"Vänersborg\",\"municipality\":\"1487\",\"district\":\"\",\"urlBooking\":\"https://tidbok.1177.se/make?configid=bb0225fc-7c37-47c1-8558-ddb991501c2c&hsaid=SE2321000131-E000000000543\",\"urlContactCard\":\"https://www.1177.se/Vastra-Gotaland/hitta-vard/kontaktkort/Narhalsan-Vanerparken-vardcentral-Vanersborg/\",\"urlContactCardText\":\"1\",\"testtype\":\"1\",\"source\":\"internal\",\"dropin\":\"0\",\"urlContactCardDropin\":null,\"timeslots\":100,\"updated\":\"2022-07-18 10:27:37\",\"weeksInFuture\":8},{\"title\":\"Närhälsan Tidaholm vårdcentral\",\"hsaid\":\"SE2321000131-E000000000466\",\"municipalityName\":\"Tidaholm\",\"municipality\":\"1498\",\"district\":\"\",\"urlBooking\":\"https://tidbok.1177.se/make?configid=bb0225fc-7c37-47c1-8558-ddb991501c2c&hsaid=SE2321000131-E000000000466\",\"urlContactCard\":\"https://www.1177.se/Vastra-Gotaland/hitta-vard/kontaktkort/Narhalsan-Tidaholm-vardcentral-Tidaholm/\",\"urlContactCardText\":\"1\",\"testtype\":\"1\",\"source\":\"internal\",\"dropin\":\"0\",\"urlContactCardDropin\":null,\"timeslots\":0,\"updated\":\"2022-07-18 10:32:54\",\"weeksInFuture\":8},{\"title\":\"Närhälsan Vargön vårdcentral\",\"hsaid\":\"SE2321000131-E000000000545\",\"municipalityName\":\"Vänersborg\",\"municipality\":\"1487\",\"district\":\"\",\"urlBooking\":\"https://tidbok.1177.se/make?configid=bb0225fc-7c37-47c1-8558-ddb991501c2c&hsaid=SE2321000131-E000000000545\",\"urlContactCard\":\"https://www.1177.se/Vastra-Gotaland/hitta-vard/kontaktkort/Narhalsan-Vargon-vardcentral-Vargon/\",\"urlContactCardText\":\"1\",\"testtype\":\"1\",\"source\":\"internal\",\"dropin\":\"0\",\"urlContactCardDropin\":null,\"timeslots\":0,\"updated\":\"2022-07-18 10:28:06\",\"weeksInFuture\":8},{\"title\":\"Nötkärnan Bergsjön Vårdcentral och BVC\",\"hsaid\":\"SE2321000131-E000000014785\",\"municipalityName\":\"Göteborg\",\"municipality\":\"1480\",\"district\":\"Östra Göteborg\",\"urlBooking\":\"https://dl.notkarnan.se\",\"urlContactCard\":\"https://www.bergsjonvardcentral.se/\",\"urlContactCardText\":\"1\",\"testtype\":\"1\",\"source\":\"internal\",\"dropin\":\"1\",\"urlContactCardDropin\":\"https://www.bergsjonvardcentral.se/\",\"timeslots\":0,\"updated\":\"2022-07-18 10:35:40\",\"weeksInFuture\":8},{\"title\":\"Närhälsan Gullspång vårdcentral\",\"hsaid\":\"SE2321000131-E000000002609\",\"municipalityName\":\"Gullspång\",\"municipality\":\"1447\",\"district\":\"\",\"urlBooking\":\"https://tidbok.1177.se/make?terms=false&configid=bb0225fc-7c37-47c1-8558-ddb991501c2c&hsaid=SE2321000131-E000000002609\",\"urlContactCard\":\"https://www.1177.se/Vastra-Gotaland/hitta-vard/kontaktkort/Narhalsan-Gullspang-vardcentral-Gullspang/\",\"urlContactCardText\":\"1\",\"testtype\":\"1\",\"source\":\"internal\",\"dropin\":\"0\",\"urlContactCardDropin\":null,\"timeslots\":0,\"updated\":\"2022-07-18 10:28:23\",\"weeksInFuture\":8},{\"title\":\"Närhälsan Oden vårdcentral\",\"hsaid\":\"SE2321000131-E000000000454\",\"municipalityName\":\"Falköping\",\"municipality\":\"1499\",\"district\":\"\",\"urlBooking\":\"https://tidbok.1177.se/make?configid=bb0225fc-7c37-47c1-8558-ddb991501c2c&hsaid=SE2321000131-E000000000454\",\"urlContactCard\":\"https://www.1177.se/Vastra-Gotaland/hitta-vard/kontaktkort/Narhalsan-Oden-vardcentral-Falkoping/\",\"urlContactCardText\":\"1\",\"testtype\":\"1\",\"source\":\"internal\",\"dropin\":\"0\",\"urlContactCardDropin\":null,\"timeslots\":4,\"updated\":\"2022-07-18 10:33:15\",\"weeksInFuture\":8},{\"title\":\"Närhälsan Bengtsfors vårdcentral\",\"hsaid\":\"SE2321000131-E000000004895\",\"municipalityName\":\"Bengtsfors\",\"municipality\":\"1460\",\"district\":\"\",\"urlBooking\":\"https://tidbok.1177.se/make?configid=bb0225fc-7c37-47c1-8558-ddb991501c2c&hsaid=SE2321000131-E000000004895\",\"urlContactCard\":\"https://www.narhalsan.se/bengtsforsvardcentral\",\"urlContactCardText\":\"1\",\"testtype\":\"1\",\"source\":\"internal\",\"dropin\":\"0\",\"urlContactCardDropin\":null,\"timeslots\":0,\"updated\":\"2022-07-18 10:18:35\",\"weeksInFuture\":8},{\"title\":\"Närhälsan Hindås vårdcentral\",\"hsaid\":\"SE2321000131-E000000004576\",\"municipalityName\":\"Härryda\",\"municipality\":\"1401\",\"district\":\"\",\"urlBooking\":\"https://tidbok.1177.se/make?configid=bb0225fc-7c37-47c1-8558-ddb991501c2c&hsaid=SE2321000131-E000000004576\",\"urlContactCard\":\"https://www.1177.se/Vastra-Gotaland/hitta-vard/kontaktkort/Narhalsan-Hindas-vardcentral-Hindas/\",\"urlContactCardText\":\"1\",\"testtype\":\"1\",\"source\":\"internal\",\"dropin\":\"0\",\"urlContactCardDropin\":null,\"timeslots\":0,\"updated\":\"2022-07-18 10:28:41\",\"weeksInFuture\":8},{\"title\":\"Närhälsan Öckerö vårdcentral\",\"hsaid\":\"SE2321000131-E000000005543\",\"municipalityName\":\"Öckerö\",\"municipality\":\"1407\",\"district\":\"\",\"urlBooking\":\"https://tidbok.1177.se/make?configid=bb0225fc-7c37-47c1-8558-ddb991501c2c&hsaid=SE2321000131-E000000005543\",\"urlContactCard\":\"https://www.1177.se/Vastra-Gotaland/hitta-vard/kontaktkort/Narhalsan-Ockero-vardcentral-Ockero/\",\"urlContactCardText\":\"1\",\"testtype\":\"1\",\"source\":\"internal\",\"dropin\":\"0\",\"urlContactCardDropin\":null,\"timeslots\":17,\"updated\":\"2022-07-18 10:29:01\",\"weeksInFuture\":8},{\"title\":\"Närhälsan Älvängen vårdcentral\",\"hsaid\":\"SE2321000131-E000000004530\",\"municipalityName\":\"Ale\",\"municipality\":\"1440\",\"district\":\"\",\"urlBooking\":\"https://tidbok.1177.se/make?configid=bb0225fc-7c37-47c1-8558-ddb991501c2c&hsaid=SE2321000131-E000000004530\",\"urlContactCard\":\"https://www.1177.se/Vastra-Gotaland/hitta-vard/kontaktkort/Narhalsan-Alvangen-vardcentral-Alvangen/\",\"urlContactCardText\":\"1\",\"testtype\":\"1\",\"source\":\"internal\",\"dropin\":\"0\",\"urlContactCardDropin\":null,\"timeslots\":0,\"updated\":\"2022-07-18 10:18:45\",\"weeksInFuture\":8},{\"title\":\"Närhälsan Bäckefors Dalslands Sjukhus\",\"hsaid\":\"SE2321000131-E000000002032\",\"municipalityName\":\"Bengtsfors\",\"municipality\":\"1460\",\"district\":\"\",\"urlBooking\":\"https://tidbok.1177.se/make?configid=bb0225fc-7c37-47c1-8558-ddb991501c2c&hsaid=SE2321000131-E000000002032\",\"urlContactCard\":\"https://www.narhalsan.se/covid-192/vaccination-covid-19/narhalsan-backefors-dalslands-sjukhus/\",\"urlContactCardText\":\"1\",\"testtype\":\"1\",\"source\":\"internal\",\"dropin\":\"0\",\"urlContactCardDropin\":null,\"timeslots\":0,\"updated\":\"2022-07-18 10:29:22\",\"weeksInFuture\":8},{\"title\":\"Närhälsan Guldvingen vårdcentral\",\"hsaid\":\"SE2321000131-E000000000459\",\"municipalityName\":\"Lidköping\",\"municipality\":\"1494\",\"district\":\"\",\"urlBooking\":\"https://tidbok.1177.se/make?configid=bb0225fc-7c37-47c1-8558-ddb991501c2c&hsaid=SE2321000131-E000000000459\",\"urlContactCard\":\"https://www.1177.se/Vastra-Gotaland/hitta-vard/kontaktkort/Narhalsan-Guldvingen-vardcentral-Lidkoping/\",\"urlContactCardText\":\"1\",\"testtype\":\"1\",\"source\":\"internal\",\"dropin\":\"0\",\"urlContactCardDropin\":null,\"timeslots\":0,\"updated\":\"2022-07-18 10:33:25\",\"weeksInFuture\":8},{\"title\":\"Närhälsan Mariestad Sjukhus\",\"hsaid\":\"SE2321000131-E000000007323\",\"municipalityName\":\"Mariestad\",\"municipality\":\"1493\",\"district\":\"\",\"urlBooking\":\"https://tidbok.1177.se/make?configid=bb0225fc-7c37-47c1-8558-ddb991501c2c&hsaid=SE2321000131-E000000007323\",\"urlContactCard\":\"https://www.narhalsan.se/hitta-mottagning/mariestad/narhalsan-mariestad-vardcentral/\",\"urlContactCardText\":\"1\",\"testtype\":\"1\",\"source\":\"internal\",\"dropin\":\"0\",\"urlContactCardDropin\":null,\"timeslots\":0,\"updated\":\"2022-07-18 10:36:14\",\"weeksInFuture\":8},{\"title\":\"Närhälsan Herrestad vårdcentral\",\"hsaid\":\"SE2321000131-E000000000539\",\"municipalityName\":\"Uddevalla\",\"municipality\":\"1485\",\"district\":\"\",\"urlBooking\":\"https://tidbok.1177.se/make?configid=bb0225fc-7c37-47c1-8558-ddb991501c2c&hsaid=SE2321000131-E000000000539\",\"urlContactCard\":\"https://www.narhalsan.se/Herrestadvardcentral\",\"urlContactCardText\":\"1\",\"testtype\":\"1\",\"source\":\"internal\",\"dropin\":\"0\",\"urlContactCardDropin\":null,\"timeslots\":0,\"updated\":\"2022-07-18 10:29:41\",\"weeksInFuture\":8},{\"title\":\"Närhälsan Dalaberg vårdcentral\",\"hsaid\":\"SE2321000131-E000000000538\",\"municipalityName\":\"Uddevalla\",\"municipality\":\"1485\",\"district\":\"\",\"urlBooking\":\"https://tidbok.1177.se/make?configid=bb0225fc-7c37-47c1-8558-ddb991501c2c&hsaid=SE2321000131-E000000000538\",\"urlContactCard\":\"https://www.narhalsan.se/Dalabergvardcentral\",\"urlContactCardText\":\"1\",\"testtype\":\"1\",\"source\":\"internal\",\"dropin\":\"0\",\"urlContactCardDropin\":null,\"timeslots\":0,\"updated\":\"2022-07-18 10:29:51\",\"weeksInFuture\":8},{\"title\":\"Närhälsan Lindome vårdcentral\",\"hsaid\":\"SE2321000131-E000000000214\",\"municipalityName\":\"Mölndal\",\"municipality\":\"1481\",\"district\":\"\",\"urlBooking\":\"https://tidbok.1177.se/make?configid=bb0225fc-7c37-47c1-8558-ddb991501c2c&hsaid=SE2321000131-E000000000214\",\"urlContactCard\":\"https://www.narhalsan.se/lindomevardcentral\",\"urlContactCardText\":\"1\",\"testtype\":\"1\",\"source\":\"internal\",\"dropin\":\"0\",\"urlContactCardDropin\":null,\"timeslots\":37,\"updated\":\"2022-07-18 10:33:35\",\"weeksInFuture\":8},{\"title\":\"Närhälsan Mösseberg vårdcentral\",\"hsaid\":\"SE2321000131-E000000000456\",\"municipalityName\":\"Falköping\",\"municipality\":\"1499\",\"district\":\"\",\"urlBooking\":\"https://tidbok.1177.se/make?configid=bb0225fc-7c37-47c1-8558-ddb991501c2c&hsaid=SE2321000131-E000000000456\",\"urlContactCard\":\"https://www.1177.se/Vastra-Gotaland/hitta-vard/kontaktkort/Narhalsan-Mosseberg-vardcentral-Falkoping/\",\"urlContactCardText\":\"1\",\"testtype\":\"1\",\"source\":\"internal\",\"dropin\":\"0\",\"urlContactCardDropin\":null,\"timeslots\":0,\"updated\":\"2022-07-18 10:33:44\",\"weeksInFuture\":8},{\"title\":\"Närhälsan Töreboda vårdcentral\",\"hsaid\":\"SE2321000131-E000000001665\",\"municipalityName\":\"Töreboda\",\"municipality\":\"1473\",\"district\":\"\",\"urlBooking\":\"https://tidbok.1177.se/make?configid=bb0225fc-7c37-47c1-8558-ddb991501c2c&hsaid=SE2321000131-E000000001665\",\"urlContactCard\":\"https://www.1177.se/Vastra-Gotaland/hitta-vard/kontaktkort/Narhalsan-Toreboda-vardcentral-Toreboda/\",\"urlContactCardText\":\"1\",\"testtype\":\"1\",\"source\":\"internal\",\"dropin\":\"0\",\"urlContactCardDropin\":null,\"timeslots\":1,\"updated\":\"2022-07-18 10:34:03\",\"weeksInFuture\":8},{\"title\":\"Närhälsan Stenungsund vårdcentral\",\"hsaid\":\"SE2321000131-E000000000216\",\"municipalityName\":\"Stenungsund\",\"municipality\":\"1415\",\"district\":\"\",\"urlBooking\":\"https://tidbok.1177.se/make?configid=bb0225fc-7c37-47c1-8558-ddb991501c2c&hsaid=SE2321000131-E000000000216\",\"urlContactCard\":\"https://www.1177.se/Vastra-Gotaland/hitta-vard/kontaktkort/Narhalsan-Stenungsund-vardcentral-Stenungsund/\",\"urlContactCardText\":\"1\",\"testtype\":\"1\",\"source\":\"internal\",\"dropin\":\"0\",\"urlContactCardDropin\":null,\"timeslots\":69,\"updated\":\"2022-07-18 10:34:13\",\"weeksInFuture\":8},{\"title\":\"Närhälsan Ågårdsskogen vårdcentral\",\"hsaid\":\"SE2321000131-E000000000458\",\"municipalityName\":\"Lidköping\",\"municipality\":\"1494\",\"district\":\"\",\"urlBooking\":\"https://tidbok.1177.se/make?configid=bb0225fc-7c37-47c1-8558-ddb991501c2c&hsaid=SE2321000131-E000000000458\",\"urlContactCard\":\"https://www.1177.se/Vastra-Gotaland/hitta-vard/kontaktkort/Narhalsan-Agardsskogen-vardcentral-Lidkoping/\",\"urlContactCardText\":\"1\",\"testtype\":\"1\",\"source\":\"internal\",\"dropin\":\"0\",\"urlContactCardDropin\":null,\"timeslots\":0,\"updated\":\"2022-07-18 10:34:23\",\"weeksInFuture\":8},{\"title\":\"Närhälsan Stenstorp vårdcentral\",\"hsaid\":\"SE2321000131-E000000000457\",\"municipalityName\":\"Falköping\",\"municipality\":\"1499\",\"district\":\"\",\"urlBooking\":\"https://tidbok.1177.se/make?configid=bb0225fc-7c37-47c1-8558-ddb991501c2c&hsaid=SE2321000131-E000000000457\",\"urlContactCard\":\"https://www.1177.se/Vastra-Gotaland/hitta-vard/kontaktkort/Narhalsan-Stenstorp-vardcentral-Stenstorp/\",\"urlContactCardText\":\"1\",\"testtype\":\"1\",\"source\":\"internal\",\"dropin\":\"0\",\"urlContactCardDropin\":null,\"timeslots\":0,\"updated\":\"2022-07-18 10:34:32\",\"weeksInFuture\":8},{\"title\":\"Nötkärnan Sävelången Familjeläkare och BVC\",\"hsaid\":\"SE2321000131-E000000007495\",\"municipalityName\":\"Alingsås\",\"municipality\":\"1489\",\"district\":\"\",\"urlBooking\":\"https://dl.notkarnan.se\",\"urlContactCard\":\"https://www.1177.se/Vastra-Gotaland/hitta-vard/kontaktkort/Notkarnan-Savelangen-Familjelakare-och-BVC-Alingsas/\",\"urlContactCardText\":\"1\",\"testtype\":\"1\",\"source\":\"internal\",\"dropin\":\"0\",\"urlContactCardDropin\":null,\"timeslots\":0,\"updated\":\"2022-07-18 10:19:22\",\"weeksInFuture\":8},{\"title\":\"Närhälsan Boda vårdcentral\",\"hsaid\":\"SE2321000131-E000000000419\",\"municipalityName\":\"Borås\",\"municipality\":\"1490\",\"district\":\"\",\"urlBooking\":\"https://tidbok.1177.se/make?configid=bb0225fc-7c37-47c1-8558-ddb991501c2c&hsaid=SE2321000131-E000000005877\",\"urlContactCard\":\"https://www.narhalsan.se/Bodavardcentral\",\"urlContactCardText\":\"1\",\"testtype\":\"1\",\"source\":\"internal\",\"dropin\":\"0\",\"urlContactCardDropin\":null,\"timeslots\":0,\"updated\":\"2022-07-18 10:30:10\",\"weeksInFuture\":8},{\"title\":\"Närhälsan Bjurslätt vårdcentral\",\"hsaid\":\"SE2321000131-E000000001708\",\"municipalityName\":\"Göteborg\",\"municipality\":\"1480\",\"district\":\"Lundby\",\"urlBooking\":\"https://tidbok.1177.se/make?configid=bb0225fc-7c37-47c1-8558-ddb991501c2c&hsaid=SE2321000131-E000000001708\",\"urlContactCard\":\"Närhälsan Bjurslätt vårdcentral - Närhälsan (narhalsan.se)\",\"urlContactCardText\":\"1\",\"testtype\":\"1\",\"source\":\"internal\",\"dropin\":\"0\",\"urlContactCardDropin\":null,\"timeslots\":0,\"updated\":\"2022-07-18 10:19:43\",\"weeksInFuture\":8},{\"title\":\"Närhälsan Olskroken vårdcentral\",\"hsaid\":\"SE2321000131-E000000000380\",\"municipalityName\":\"Göteborg\",\"municipality\":\"1480\",\"district\":\"Örgryte-Härlanda\",\"urlBooking\":\"https://tidbok.1177.se/make?configid=bb0225fc-7c37-47c1-8558-ddb991501c2c&hsaid=SE2321000131-E000000000380\",\"urlContactCard\":\"https://www.1177.se/Vastra-Gotaland/hitta-vard/kontaktkort/Narhalsan-Olskroken-vardcentral-Goteborg/\",\"urlContactCardText\":\"1\",\"testtype\":\"1\",\"source\":\"internal\",\"dropin\":\"0\",\"urlContactCardDropin\":null,\"timeslots\":0,\"updated\":\"2022-07-18 10:36:41\",\"weeksInFuture\":8},{\"title\":\"Närhälsan Stora Höga vårdcentral\",\"hsaid\":\"SE2321000131-E000000005470\",\"municipalityName\":\"Stenungsund\",\"municipality\":\"1415\",\"district\":\"\",\"urlBooking\":\"https://tidbok.1177.se/make?configid=bb0225fc-7c37-47c1-8558-ddb991501c2c&hsaid=SE2321000131-E000000005470\",\"urlContactCard\":\"https://www.1177.se/Vastra-Gotaland/hitta-vard/kontaktkort/Narhalsan-Stora-Hoga-vardcentral-Stora-Hoga/\",\"urlContactCardText\":\"1\",\"testtype\":\"1\",\"source\":\"internal\",\"dropin\":\"0\",\"urlContactCardDropin\":null,\"timeslots\":12,\"updated\":\"2022-07-18 10:34:50\",\"weeksInFuture\":8}],\"numberWeeks\":8}\n"
     ]
    }
   ],
   "source": [
    "## skriv ner dina API-nycklar i ett format som requests kan använda, förslagsvis i en variabel du kallar 'headers'\n",
    "headers = {\n",
    "    'client_id':'c4d279f9b8094dbaafd0162c5a606623', \n",
    "    'client_secret': '39D6cAB5D89c448ea3355aAC61De19e7'\n",
    "}\n",
    "\n",
    "## ställ frågan till API:t och lägg med dina API-nycklar till attributet *headers* som läggs efter API:ts adress i anropet\n",
    "req = requests.get('https://api.vgregion.se/e-crm-scheduling-public/api/v1/testCenter', headers = headers)\n",
    "\n",
    "## skriv ut ditt svar från API:t\n",
    "print(req.text)"
   ]
  },
  {
   "cell_type": "markdown",
   "id": "65c9dd26",
   "metadata": {},
   "source": [
    "## 2. Läs in svaret i en ordlista med Python\n",
    "Svaret du har fått är (förhoppningsvis) kompatibelt med Pythons datastruktur *dict()* vilket kan hjälpa dig använda svaret. Svaret är nämligen i JSON-format, vilket du kan se för att det är parentesvarianten \"måsvingar\" runt ditt data.\n",
    "\n",
    "Dokumentation om [JSON i Python](https://www.w3schools.com/python/python_json.asp).\n"
   ]
  },
  {
   "cell_type": "code",
   "execution_count": 3,
   "id": "8a6ce1f3",
   "metadata": {},
   "outputs": [
    {
     "name": "stdout",
     "output_type": "stream",
     "text": [
      "<class 'dict'>\n",
      "{'userId': 1, 'id': 1, 'title': 'delectus aut autem', 'completed': False}\n"
     ]
    }
   ],
   "source": [
    "## importera det du behöver använda\n",
    "import json\n",
    "\n",
    "## ladda in ditt JSON-svar från föregående cell med json-funktionen *loads()*\n",
    "json_data = json.loads(mitt_svar)\n",
    "\n",
    "## Be Python berätta om vilken datatyp din inladdade JSON-data har\n",
    "print(type(json_data))\n",
    "\n",
    "## Skriv ut hela JSON-importen på skärmen\n",
    "print(json_data)"
   ]
  },
  {
   "cell_type": "markdown",
   "id": "067e5548",
   "metadata": {},
   "source": [
    "## 3. Hämta ut data ur din ordlista\n",
    "Poängen kan vara att ur ett större API-svar bara behålla delar av informationen för vidare arbete. I en ordlista finns *nycklar* och *värden* ihopparade. Nyckeln är det du sett innan kolon i den utdata du haft i tidigare kodexempel. Värdet är det efter kolon. \n",
    "\n",
    "Dokumentation för att [jobba med dict() i Python](https://www.w3schools.com/python/python_dictionaries.asp)."
   ]
  },
  {
   "cell_type": "code",
   "execution_count": 4,
   "id": "497fd11f",
   "metadata": {},
   "outputs": [
    {
     "name": "stdout",
     "output_type": "stream",
     "text": [
      "Min ordlista har: 4\n",
      "delectus aut autem\n",
      "1\n",
      "1\n",
      "delectus aut autem\n",
      "False\n"
     ]
    }
   ],
   "source": [
    "## skriv ut hur många nycklar din ordlista består av, detta görs med funktionen len()\n",
    "print(\"Min ordlista har:\", len(json_data))\n",
    "\n",
    "## skriv ut värdet för någon av nycklarna du sett i din tidigare utdata\n",
    "print(json_data['title'])\n",
    "\n",
    "## med en for-loop som itererar igenom dina nycklar, hämta ut respektive värde\n",
    "for nyckel in json_data:\n",
    "    print(json_data[nyckel])"
   ]
  }
 ],
 "metadata": {
  "kernelspec": {
   "display_name": "Python 3",
   "language": "python",
   "name": "python3"
  },
  "language_info": {
   "codemirror_mode": {
    "name": "ipython",
    "version": 3
   },
   "file_extension": ".py",
   "mimetype": "text/x-python",
   "name": "python",
   "nbconvert_exporter": "python",
   "pygments_lexer": "ipython3",
   "version": "3.8.8"
  }
 },
 "nbformat": 4,
 "nbformat_minor": 5
}
